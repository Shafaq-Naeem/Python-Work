{
 "cells": [
  {
   "cell_type": "markdown",
   "metadata": {},
   "source": [
    "###### PIAIC "
   ]
  },
  {
   "cell_type": "code",
   "execution_count": 4,
   "metadata": {},
   "outputs": [
    {
     "data": {
      "text/plain": [
       "['__add__',\n",
       " '__class__',\n",
       " '__contains__',\n",
       " '__delattr__',\n",
       " '__dir__',\n",
       " '__doc__',\n",
       " '__eq__',\n",
       " '__format__',\n",
       " '__ge__',\n",
       " '__getattribute__',\n",
       " '__getitem__',\n",
       " '__getnewargs__',\n",
       " '__gt__',\n",
       " '__hash__',\n",
       " '__init__',\n",
       " '__init_subclass__',\n",
       " '__iter__',\n",
       " '__le__',\n",
       " '__len__',\n",
       " '__lt__',\n",
       " '__mod__',\n",
       " '__mul__',\n",
       " '__ne__',\n",
       " '__new__',\n",
       " '__reduce__',\n",
       " '__reduce_ex__',\n",
       " '__repr__',\n",
       " '__rmod__',\n",
       " '__rmul__',\n",
       " '__setattr__',\n",
       " '__sizeof__',\n",
       " '__str__',\n",
       " '__subclasshook__',\n",
       " 'capitalize',\n",
       " 'casefold',\n",
       " 'center',\n",
       " 'count',\n",
       " 'encode',\n",
       " 'endswith',\n",
       " 'expandtabs',\n",
       " 'find',\n",
       " 'format',\n",
       " 'format_map',\n",
       " 'index',\n",
       " 'isalnum',\n",
       " 'isalpha',\n",
       " 'isascii',\n",
       " 'isdecimal',\n",
       " 'isdigit',\n",
       " 'isidentifier',\n",
       " 'islower',\n",
       " 'isnumeric',\n",
       " 'isprintable',\n",
       " 'isspace',\n",
       " 'istitle',\n",
       " 'isupper',\n",
       " 'join',\n",
       " 'ljust',\n",
       " 'lower',\n",
       " 'lstrip',\n",
       " 'maketrans',\n",
       " 'partition',\n",
       " 'replace',\n",
       " 'rfind',\n",
       " 'rindex',\n",
       " 'rjust',\n",
       " 'rpartition',\n",
       " 'rsplit',\n",
       " 'rstrip',\n",
       " 'split',\n",
       " 'splitlines',\n",
       " 'startswith',\n",
       " 'strip',\n",
       " 'swapcase',\n",
       " 'title',\n",
       " 'translate',\n",
       " 'upper',\n",
       " 'zfill']"
      ]
     },
     "execution_count": 4,
     "metadata": {},
     "output_type": "execute_result"
    }
   ],
   "source": [
    "name=\"Shafaq\"\n",
    "dir(name)"
   ]
  },
  {
   "cell_type": "code",
   "execution_count": 6,
   "metadata": {},
   "outputs": [
    {
     "data": {
      "text/plain": [
       "['__add__',\n",
       " '__class__',\n",
       " '__contains__',\n",
       " '__delattr__',\n",
       " '__dir__',\n",
       " '__doc__',\n",
       " '__eq__',\n",
       " '__format__',\n",
       " '__ge__',\n",
       " '__getattribute__',\n",
       " '__getitem__',\n",
       " '__getnewargs__',\n",
       " '__gt__',\n",
       " '__hash__',\n",
       " '__init__',\n",
       " '__init_subclass__',\n",
       " '__iter__',\n",
       " '__le__',\n",
       " '__len__',\n",
       " '__lt__',\n",
       " '__mod__',\n",
       " '__mul__',\n",
       " '__ne__',\n",
       " '__new__',\n",
       " '__reduce__',\n",
       " '__reduce_ex__',\n",
       " '__repr__',\n",
       " '__rmod__',\n",
       " '__rmul__',\n",
       " '__setattr__',\n",
       " '__sizeof__',\n",
       " '__str__',\n",
       " '__subclasshook__',\n",
       " 'capitalize',\n",
       " 'casefold',\n",
       " 'center',\n",
       " 'count',\n",
       " 'encode',\n",
       " 'endswith',\n",
       " 'expandtabs',\n",
       " 'find',\n",
       " 'format',\n",
       " 'format_map',\n",
       " 'index',\n",
       " 'isalnum',\n",
       " 'isalpha',\n",
       " 'isascii',\n",
       " 'isdecimal',\n",
       " 'isdigit',\n",
       " 'isidentifier',\n",
       " 'islower',\n",
       " 'isnumeric',\n",
       " 'isprintable',\n",
       " 'isspace',\n",
       " 'istitle',\n",
       " 'isupper',\n",
       " 'join',\n",
       " 'ljust',\n",
       " 'lower',\n",
       " 'lstrip',\n",
       " 'maketrans',\n",
       " 'partition',\n",
       " 'replace',\n",
       " 'rfind',\n",
       " 'rindex',\n",
       " 'rjust',\n",
       " 'rpartition',\n",
       " 'rsplit',\n",
       " 'rstrip',\n",
       " 'split',\n",
       " 'splitlines',\n",
       " 'startswith',\n",
       " 'strip',\n",
       " 'swapcase',\n",
       " 'title',\n",
       " 'translate',\n",
       " 'upper',\n",
       " 'zfill']"
      ]
     },
     "execution_count": 6,
     "metadata": {},
     "output_type": "execute_result"
    }
   ],
   "source": [
    "name=\"Shafaq\"\n",
    "dir(name)"
   ]
  },
  {
   "cell_type": "code",
   "execution_count": 7,
   "metadata": {},
   "outputs": [
    {
     "name": "stdout",
     "output_type": "stream",
     "text": [
      "Iram           Manzoor\n",
      "4 -5 0\n",
      "good,hey have a good day.\n",
      "Name:   Iram   ,\n",
      " Father Name:Manzoor\n",
      "Good,hey have a good day.\n",
      "0\n",
      "good,Hey have a good day.\n",
      "2\n",
      "b'good,Hey have a good day.'\n",
      "True\n",
      "0\n",
      "good,Hey have a good day.\n",
      "2\n",
      "b'good,Hey have a good day.'\n",
      "True\n",
      "9\n",
      "False\n",
      "True\n",
      "False\n",
      "False\n",
      "False\n",
      "False\n",
      "False\n",
      "True\n",
      "False\n",
      "True\n",
      "False\n",
      ".   Iram   .   Iram   .\n",
      "good,Hey have a good day.$$$$$\n",
      "   iram   \n",
      "Iram   \n",
      "{97: 100, 98: 101, 99: 102}\n",
      "Translated string: def\n",
      "16\n",
      "16\n",
      "00000good,Hey have a good day.\n",
      "('', '', '   Iram   ')\n",
      "['good,Hey', 'have', 'a', 'good', 'day.']\n",
      "   Iram\n",
      "['Iram']\n",
      "['Hey good morning', 'Have a nice day']\n",
      "True\n",
      ",Hey have a good day.\n",
      "GOOD,hEY HAVE A GOOD DAY.\n",
      "Good,Hey Have A Good Day.\n"
     ]
    }
   ],
   "source": [
    "greetingText=\"good,Hey have a good day.\"\n",
    "name=\"   Iram   \"\n",
    "fname=\"Manzoor\"\n",
    "point = {'x':4,'y':-5, 'z': 0}\n",
    "fullName=\"Iram\\tManzoor\"\n",
    "print(fullName.expandtabs(15))\n",
    "print('{x} {y} {z}'.format_map(point))\n",
    "print(greetingText.casefold())\n",
    "print(\"Name:{},\\n Father Name:{}\".format(name,fname)) #Concatenate method5print(greetingText.casefold())\n",
    "print(greetingText.capitalize())\n",
    "print(greetingText.find(\"good\"))\n",
    "print(greetingText.center(20))\n",
    "print(greetingText.count(\"good\"))\n",
    "print(greetingText.encode())\n",
    "print(greetingText.endswith(\"day.\"))\n",
    "print(greetingText.find(\"good\"))\n",
    "print(greetingText.center(20))\n",
    "print(greetingText.count(\"good\"))\n",
    "print(greetingText.encode())\n",
    "print(greetingText.endswith(\"day.\"))\n",
    "print(greetingText.index(\"have\"))\n",
    "print(name.isalpha())\n",
    "print(name.isascii())\n",
    "print(name.isdecimal())\n",
    "print(name.isdigit())\n",
    "print(name.isidentifier())\n",
    "print(name.islower())\n",
    "print(name.isnumeric())\n",
    "print(name.isprintable())\n",
    "print(name.isspace())\n",
    "print(name.istitle())\n",
    "print(name.isupper())\n",
    "print(name.join(\"...\"))\n",
    "print(greetingText.ljust(30, '$'))\n",
    "print(name.lower())\n",
    "print(name.lstrip())\n",
    "firstString = \"abc\"\n",
    "secondString = \"def\"\n",
    "string = \"abc\"\n",
    "print(string.maketrans(firstString, secondString))\n",
    "print(\"Translated string:\", string.translate(string.maketrans(firstString, secondString)))\n",
    "\n",
    "print(greetingText.rfind(\"good\"))\n",
    "print(greetingText.rindex('good', 10))\n",
    "\n",
    "print(greetingText.rjust(30, '0'))\n",
    "print(name.rpartition(\"good\"))\n",
    "print(greetingText.rsplit( ))\n",
    "print(name.rstrip( ))\n",
    "print(name.split( ))\n",
    "txt = \"Hey good morning\\nHave a nice day\"\n",
    "x = txt.splitlines()\n",
    "print(x)\n",
    "print(greetingText.startswith(\"good\"))\n",
    "print(greetingText.strip(\"good\"))\n",
    "print(greetingText.swapcase())\n",
    "print(greetingText.title())\n"
   ]
  },
  {
   "cell_type": "code",
   "execution_count": 1,
   "metadata": {},
   "outputs": [
    {
     "name": "stdout",
     "output_type": "stream",
     "text": [
      "Python\n"
     ]
    }
   ],
   "source": [
    "print(\"Python\")"
   ]
  },
  {
   "cell_type": "code",
   "execution_count": 3,
   "metadata": {},
   "outputs": [
    {
     "name": "stdout",
     "output_type": "stream",
     "text": [
      "python\n"
     ]
    }
   ],
   "source": [
    "print(\"python\")"
   ]
  },
  {
   "cell_type": "code",
   "execution_count": 4,
   "metadata": {},
   "outputs": [
    {
     "name": "stdout",
     "output_type": "stream",
     "text": [
      "python\n"
     ]
    }
   ],
   "source": [
    "print(\"python\")"
   ]
  },
  {
   "cell_type": "code",
   "execution_count": 5,
   "metadata": {},
   "outputs": [
    {
     "name": "stdout",
     "output_type": "stream",
     "text": [
      "python\n"
     ]
    }
   ],
   "source": [
    "print(\"python\")"
   ]
  },
  {
   "cell_type": "markdown",
   "metadata": {},
   "source": [
    "# function(a,b)\n",
    "{\n",
    "    return a+b\n",
    "}\n",
    "\n"
   ]
  },
  {
   "cell_type": "markdown",
   "metadata": {},
   "source": []
  },
  {
   "cell_type": "code",
   "execution_count": 10,
   "metadata": {},
   "outputs": [
    {
     "name": "stdout",
     "output_type": "stream",
     "text": [
      "\n",
      "PIAIC\n",
      "Name: \n",
      "Father Name: Naeem Iqbal\n",
      "University:Bahria University\n",
      "    \n"
     ]
    }
   ],
   "source": [
    "name= \"Shafaq Naeem\"\n",
    "father_name= \"Naeem Iqbal\"\n",
    "university=\"Bahria University\"\n",
    "message=\"\"\"\n",
    "PIAIC\n",
    "Name:{} \n",
    "Father Name: {}\n",
    "University:{}\n",
    "    \"\"\".format(name,father_name,university)\n",
    "print(message)"
   ]
  },
  {
   "cell_type": "code",
   "execution_count": 15,
   "metadata": {},
   "outputs": [
    {
     "name": "stdout",
     "output_type": "stream",
     "text": [
      "\n",
      "Name:ABC\n",
      "Father Name:AB\n",
      "University:abc\n",
      "\n",
      "\n"
     ]
    }
   ],
   "source": [
    "name=\"ABC\"\n",
    "father_name=\"AB\"\n",
    "university=\"abc\"\n",
    "message=\"\"\"\n",
    "Name:{}\n",
    "Father Name:{}\n",
    "University:{}\n",
    "\n",
    "\"\"\".format(name,father_name,university)\n",
    "print(message)"
   ]
  },
  {
   "cell_type": "code",
   "execution_count": 16,
   "metadata": {},
   "outputs": [
    {
     "name": "stdout",
     "output_type": "stream",
     "text": [
      "Help on built-in function print in module builtins:\n",
      "\n",
      "print(...)\n",
      "    print(value, ..., sep=' ', end='\\n', file=sys.stdout, flush=False)\n",
      "    \n",
      "    Prints the values to a stream, or to sys.stdout by default.\n",
      "    Optional keyword arguments:\n",
      "    file:  a file-like object (stream); defaults to the current sys.stdout.\n",
      "    sep:   string inserted between values, default a space.\n",
      "    end:   string appended after the last value, default a newline.\n",
      "    flush: whether to forcibly flush the stream.\n",
      "\n"
     ]
    }
   ],
   "source": [
    "help(print\n",
    "    )"
   ]
  },
  {
   "cell_type": "code",
   "execution_count": 5,
   "metadata": {},
   "outputs": [
    {
     "name": "stdout",
     "output_type": "stream",
     "text": [
      "Iram           Manzoor\n",
      "4 -5 0\n",
      "good,hey have a good day.\n",
      "Name:   Iram   ,\n",
      " Father Name:Manzoor\n",
      "Good,hey have a good day.\n",
      "0\n",
      "good,Hey have a good day.\n",
      "2\n",
      "b'good,Hey have a good day.'\n",
      "True\n",
      "Good,hey have a good day.\n",
      "0\n",
      "good,Hey have a good day.\n",
      "2\n",
      "b'good,Hey have a good day.'\n",
      "True\n",
      "9\n",
      "False\n",
      "True\n",
      "False\n",
      "False\n",
      "False\n",
      "False\n",
      "False\n",
      "True\n",
      "False\n",
      "True\n",
      "False\n",
      ".   Iram   .   Iram   .\n",
      "good,Hey have a good day.$$$$$\n",
      "   iram   \n",
      "Iram   \n",
      "{97: 100, 98: 101, 99: 102}\n",
      "Translated string: def\n",
      "16\n",
      "16\n",
      "00000good,Hey have a good day.\n",
      "('', '', '   Iram   ')\n",
      "['good,Hey', 'have', 'a', 'good', 'day.']\n",
      "   Iram\n",
      "['Iram']\n",
      "['Hey good morning', 'Have a nice day']\n",
      "True\n",
      ",Hey have a good day.\n",
      "GOOD,hEY HAVE A GOOD DAY.\n",
      "Good,Hey Have A Good Day.\n",
      "GOOD,HEY HAVE A GOOD DAY.\n"
     ]
    }
   ],
   "source": [
    "greetingText=\"good,Hey have a good day.\"\n",
    "name=\"   Iram   \"\n",
    "fname=\"Manzoor\"\n",
    "point = {'x':4,'y':-5, 'z': 0}\n",
    "fullName=\"Iram\\tManzoor\"\n",
    "print(fullName.expandtabs(15))\n",
    "print('{x} {y} {z}'.format_map(point))\n",
    "print(greetingText.casefold())\n",
    "print(\"Name:{},\\n Father Name:{}\".format(name,fname)) #Concatenate method5print(greetingText.casefold())\n",
    "print(greetingText.capitalize())\n",
    "print(greetingText.find(\"good\"))\n",
    "print(greetingText.center(20))\n",
    "print(greetingText.count(\"good\"))\n",
    "print(greetingText.encode())\n",
    "print(greetingText.endswith(\"day.\"))\n",
    "print(greetingText.capitalize())\n",
    "print(greetingText.find(\"good\"))\n",
    "print(greetingText.center(20))\n",
    "print(greetingText.count(\"good\"))\n",
    "print(greetingText.encode())\n",
    "print(greetingText.endswith(\"day.\"))\n",
    "print(greetingText.index(\"have\"))\n",
    "print(name.isalpha())\n",
    "print(name.isascii())\n",
    "print(name.isdecimal())\n",
    "print(name.isdigit())\n",
    "print(name.isidentifier())\n",
    "print(name.islower())\n",
    "print(name.isnumeric())\n",
    "print(name.isprintable())\n",
    "print(name.isspace())\n",
    "print(name.istitle())\n",
    "print(name.isupper())\n",
    "print(name.join(\"...\"))\n",
    "print(greetingText.ljust(30, '$'))\n",
    "print(name.lower())\n",
    "print(name.lstrip())\n",
    "firstString = \"abc\"\n",
    "secondString = \"def\"\n",
    "string = \"abc\"\n",
    "print(string.maketrans(firstString, secondString))\n",
    "print(\"Translated string:\", string.translate(string.maketrans(firstString, secondString)))\n",
    "\n",
    "print(greetingText.rfind(\"good\"))\n",
    "print(greetingText.rindex('good', 10))\n",
    "\n",
    "print(greetingText.rjust(30, '0'))\n",
    "print(name.rpartition(\"good\"))\n",
    "print(greetingText.rsplit( ))\n",
    "print(name.rstrip( ))\n",
    "print(name.split( ))\n",
    "txt = \"Hey good morning\\nHave a nice day\"\n",
    "x = txt.splitlines()\n",
    "print(x)\n",
    "print(greetingText.startswith(\"good\"))\n",
    "print(greetingText.strip(\"good\"))\n",
    "print(greetingText.swapcase())\n",
    "print(greetingText.title())\n",
    "print(greetingText.upper())"
   ]
  },
  {
   "cell_type": "code",
   "execution_count": null,
   "metadata": {},
   "outputs": [],
   "source": []
  }
 ],
 "metadata": {
  "kernelspec": {
   "display_name": "Python 3",
   "language": "python",
   "name": "python3"
  },
  "language_info": {
   "codemirror_mode": {
    "name": "ipython",
    "version": 3
   },
   "file_extension": ".py",
   "mimetype": "text/x-python",
   "name": "python",
   "nbconvert_exporter": "python",
   "pygments_lexer": "ipython3",
   "version": "3.7.4"
  }
 },
 "nbformat": 4,
 "nbformat_minor": 2
}
