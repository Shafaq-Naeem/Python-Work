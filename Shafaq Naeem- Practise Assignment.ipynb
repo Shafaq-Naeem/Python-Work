{
 "cells": [
  {
   "cell_type": "markdown",
   "metadata": {},
   "source": [
    "# #Shafaq Naeem \n",
    "## PIAIC63358\n",
    "### Home Task-1 (String Functions)"
   ]
  },
  {
   "cell_type": "code",
   "execution_count": 16,
   "metadata": {},
   "outputs": [
    {
     "name": "stdout",
     "output_type": "stream",
     "text": [
      "\n",
      "Name:Shafaq\n",
      "Father Name:Naeem\n",
      "    \n",
      "Practise assignment\n",
      "PRACTISE ASSIGNMENT\n",
      "practise assignment\n",
      "Practise Assignment\n",
      "-1\n",
      "0\n",
      "0\n",
      "2\n",
      "b'Practise assignment'\n",
      "                                        Practise assignment                                         \n",
      "True\n",
      "False\n",
      "13\n",
      "4\n",
      "pRACTISE ASSIGNMENT\n",
      " assignmen\n",
      "True\n",
      "False\n",
      "True\n",
      "True\n",
      "False\n",
      "False\n",
      "True\n",
      "False\n",
      "False\n",
      "True\n",
      "False\n",
      "True\n",
      "False\n",
      "INaeemqNaeembNaeemaNaeeml\n",
      "Shafaq\n",
      "Naeem\n",
      "\n",
      "\n"
     ]
    }
   ],
   "source": [
    "Text=\"Practise assignment\"\n",
    "name= \"Shafaq\"\n",
    "f_name=\"Naeem\"\n",
    "message=\"\"\"\n",
    "Name:{}\n",
    "Father Name:{}\n",
    "    \"\"\".format(name,f_name)\n",
    "print(message)\n",
    "print(Text.capitalize())\n",
    "print(Text.upper())\n",
    "print(Text.lower())\n",
    "print(Text.title())\n",
    "print(Text.find(\"aaaaa\"))\n",
    "print(Text.find(\"Practise\"))\n",
    "print(Text.count(\"good\"))\n",
    "print(Text.count(\"a\"))\n",
    "print(Text.encode())\n",
    "print(Text.center(100))\n",
    "print(Text.endswith(\"ment\"))\n",
    "print(Text.endswith(\"abcd\"))\n",
    "print(Text.find(\"gnment\"))\n",
    "print(Text.index(\"t\"))\n",
    "print(Text.swapcase())\n",
    "print(Text.strip(\"Practise\"))\n",
    "print(Text.startswith(\"P\"))\n",
    "print(Text.startswith(\"Assignment\"))\n",
    "print(name.isalpha())\n",
    "print(name.isascii())\n",
    "print(name.isdecimal())\n",
    "print(name.isdigit())\n",
    "print(name.isidentifier())\n",
    "print(f_name.islower())\n",
    "print(f_name.isnumeric())\n",
    "print(f_name.isprintable())\n",
    "print(f_name.isspace())\n",
    "print(f_name.istitle())\n",
    "print(f_name.isupper())\n",
    "print(f_name.join(\"Iqbal\"))\n",
    "print(name.lstrip())\n",
    "print(f_name.lstrip())\n",
    "print(name.strip(\"Shafaq\"))\n",
    "print(f_name.strip(\"Naeem\"))\n"
   ]
  },
  {
   "cell_type": "code",
   "execution_count": null,
   "metadata": {},
   "outputs": [],
   "source": []
  },
  {
   "cell_type": "code",
   "execution_count": null,
   "metadata": {},
   "outputs": [],
   "source": []
  },
  {
   "cell_type": "code",
   "execution_count": null,
   "metadata": {},
   "outputs": [],
   "source": []
  }
 ],
 "metadata": {
  "kernelspec": {
   "display_name": "Python 3",
   "language": "python",
   "name": "python3"
  },
  "language_info": {
   "codemirror_mode": {
    "name": "ipython",
    "version": 3
   },
   "file_extension": ".py",
   "mimetype": "text/x-python",
   "name": "python",
   "nbconvert_exporter": "python",
   "pygments_lexer": "ipython3",
   "version": "3.7.4"
  }
 },
 "nbformat": 4,
 "nbformat_minor": 2
}
