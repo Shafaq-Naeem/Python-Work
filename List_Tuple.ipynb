{
 "cells": [
  {
   "cell_type": "code",
   "execution_count": 14,
   "metadata": {},
   "outputs": [
    {
     "name": "stdout",
     "output_type": "stream",
     "text": [
      "['A', 'B', 'C']\n",
      "['Z', 'B', 'C']\n",
      "['Z', 'B', 'C']\n"
     ]
    }
   ],
   "source": [
    "names=[]\n",
    "names.append(\"A\")\n",
    "names.append(\"B\")\n",
    "names.append(\"C\")\n",
    "print(names)\n",
    "names1=names\n",
    "names1[0]=\"Z\"\n",
    "print(names1)\n",
    "print(names)"
   ]
  },
  {
   "cell_type": "code",
   "execution_count": 15,
   "metadata": {},
   "outputs": [
    {
     "name": "stdout",
     "output_type": "stream",
     "text": [
      "['A', 'B', 'C']\n",
      "['Z', 'B', 'C']\n"
     ]
    }
   ],
   "source": [
    "names=[]\n",
    "names.append(\"A\")\n",
    "names.append(\"B\")\n",
    "names.append(\"C\")\n",
    "print(names)\n",
    "names1=names.copy()\n",
    "names1[0]=\"Z\"\n",
    "print(names1)"
   ]
  },
  {
   "cell_type": "code",
   "execution_count": 17,
   "metadata": {},
   "outputs": [
    {
     "data": {
      "text/plain": [
       "3"
      ]
     },
     "execution_count": 17,
     "metadata": {},
     "output_type": "execute_result"
    }
   ],
   "source": [
    "names=['A' ,'B', 'C' , 'D' ,'A' ,'A']\n",
    "names.count(\"A\")"
   ]
  },
  {
   "cell_type": "code",
   "execution_count": 21,
   "metadata": {},
   "outputs": [
    {
     "data": {
      "text/plain": [
       "['x', 'y', 'z', 'A', 'B', 'C']"
      ]
     },
     "execution_count": 21,
     "metadata": {},
     "output_type": "execute_result"
    }
   ],
   "source": [
    "l1= ['A', 'B' ,'C', 'A']\n",
    "l2= ['x', 'y','z']\n",
    "l2+l1"
   ]
  },
  {
   "cell_type": "code",
   "execution_count": 43,
   "metadata": {},
   "outputs": [
    {
     "name": "stdout",
     "output_type": "stream",
     "text": [
      "None\n",
      "['A', 'B', 'C', 'A']\n",
      "['x', 'y', 'z', 'A', 'B', 'C', 'A']\n"
     ]
    }
   ],
   "source": [
    "l1= ['A', 'B' ,'C','A']\n",
    "l2= ['x', 'y','z']\n",
    "l3=l2.extend(l1)\n",
    "print(l3)\n",
    "print(l1)\n",
    "print(l2)\n"
   ]
  },
  {
   "cell_type": "code",
   "execution_count": 36,
   "metadata": {},
   "outputs": [
    {
     "data": {
      "text/plain": [
       "2"
      ]
     },
     "execution_count": 36,
     "metadata": {},
     "output_type": "execute_result"
    }
   ],
   "source": [
    "names.index(\"C\")"
   ]
  },
  {
   "cell_type": "code",
   "execution_count": 37,
   "metadata": {},
   "outputs": [
    {
     "name": "stdout",
     "output_type": "stream",
     "text": [
      "['A', 'B', 'C']\n"
     ]
    },
    {
     "data": {
      "text/plain": [
       "2"
      ]
     },
     "execution_count": 37,
     "metadata": {},
     "output_type": "execute_result"
    }
   ],
   "source": [
    "print(li)\n",
    "l1.index(\"C\")"
   ]
  },
  {
   "cell_type": "code",
   "execution_count": 44,
   "metadata": {},
   "outputs": [
    {
     "name": "stdout",
     "output_type": "stream",
     "text": [
      "['A', 'B', 'C']\n",
      "3\n"
     ]
    }
   ],
   "source": [
    "print(li)\n",
    "print(l1.index(\"A\", 1))"
   ]
  },
  {
   "cell_type": "markdown",
   "metadata": {},
   "source": [
    "# INSERT"
   ]
  },
  {
   "cell_type": "code",
   "execution_count": 56,
   "metadata": {},
   "outputs": [
    {
     "name": "stdout",
     "output_type": "stream",
     "text": [
      "['C', 'B', 'A']\n",
      "['D', 'C', 'B', 'A']\n",
      "['D', 'E', 'C', 'B', 'A']\n",
      "['D', 'F', 'E', 'C', 'B', 'A']\n"
     ]
    }
   ],
   "source": [
    "l1=[]\n",
    "l1.insert(0, \"A\")\n",
    "l1.insert(0,\"B\")\n",
    "l1.insert(0,\"C\")\n",
    "print(l1)\n",
    "l1.insert(0,\"D\")\n",
    "print(l1)\n",
    "l1.insert(1,\"E\")\n",
    "print(l1)\n",
    "l1.insert(1,\"F\")\n",
    "print(l1)"
   ]
  },
  {
   "cell_type": "markdown",
   "metadata": {},
   "source": [
    "# POP"
   ]
  },
  {
   "cell_type": "code",
   "execution_count": 59,
   "metadata": {},
   "outputs": [
    {
     "name": "stdout",
     "output_type": "stream",
     "text": [
      "['a', 'b', 'c']\n",
      "b\n",
      "['a', 'c']\n"
     ]
    }
   ],
   "source": [
    "l1=[\"a\", \"b\", \"c\"]\n",
    "print(l1)\n",
    "l2= l1.pop(1)#remove by index\n",
    "print(l2)\n",
    "print(l1)"
   ]
  },
  {
   "cell_type": "code",
   "execution_count": 64,
   "metadata": {},
   "outputs": [
    {
     "name": "stdout",
     "output_type": "stream",
     "text": [
      "['a', 'b', 'c']\n",
      "None\n",
      "['b', 'c']\n"
     ]
    }
   ],
   "source": [
    "l1=[\"a\", \"b\", \"c\"]\n",
    "print(l1)\n",
    "l2= l1.remove(\"a\")#remove by value\n",
    "print(l2)\n",
    "print(l1)"
   ]
  },
  {
   "cell_type": "code",
   "execution_count": 67,
   "metadata": {},
   "outputs": [
    {
     "name": "stdout",
     "output_type": "stream",
     "text": [
      "['D', 'C', 'B', 'Y', 'X', 'A']\n"
     ]
    }
   ],
   "source": [
    "l1=['A','X','Y',\"B\",\"C\", \"D\"]\n",
    "l1.reverse()\n",
    "print(l1)"
   ]
  },
  {
   "cell_type": "code",
   "execution_count": 68,
   "metadata": {},
   "outputs": [
    {
     "name": "stdout",
     "output_type": "stream",
     "text": [
      "['A', 'B', 'C', 'D', 'X', 'Y']\n"
     ]
    }
   ],
   "source": [
    "l1=['A','X','Y',\"B\",\"C\", \"D\"]\n",
    "l1.sort()#Ascending\n",
    "print(l1)"
   ]
  },
  {
   "cell_type": "code",
   "execution_count": 70,
   "metadata": {},
   "outputs": [
    {
     "name": "stdout",
     "output_type": "stream",
     "text": [
      "['Y', 'X', 'D', 'C', 'B', 'A']\n"
     ]
    }
   ],
   "source": [
    "l1=['A','X','Y',\"B\",\"C\", \"D\"]\n",
    "l1.sort()\n",
    "l1.reverse()#Descending\n",
    "print(l1)"
   ]
  },
  {
   "cell_type": "code",
   "execution_count": 72,
   "metadata": {},
   "outputs": [
    {
     "name": "stdout",
     "output_type": "stream",
     "text": [
      "['A', 'B', 'C']\n"
     ]
    },
    {
     "data": {
      "text/plain": [
       "['a', 'b', 'c', 'D', 'E']"
      ]
     },
     "execution_count": 72,
     "metadata": {},
     "output_type": "execute_result"
    }
   ],
   "source": [
    "l1=['A', \"B\", \"C\"]\n",
    "print(l1)\n",
    "l1.__add__([\"D\", \"E\"])#inline operation"
   ]
  },
  {
   "cell_type": "code",
   "execution_count": 75,
   "metadata": {},
   "outputs": [
    {
     "name": "stdout",
     "output_type": "stream",
     "text": [
      "['A', 'B', 'C']\n"
     ]
    },
    {
     "data": {
      "text/plain": [
       "list"
      ]
     },
     "execution_count": 75,
     "metadata": {},
     "output_type": "execute_result"
    }
   ],
   "source": [
    "l1=['A', \"B\", \"C\"]\n",
    "print(l1)\n",
    "l1.__class__"
   ]
  },
  {
   "cell_type": "code",
   "execution_count": 76,
   "metadata": {},
   "outputs": [
    {
     "ename": "NameError",
     "evalue": "name 'l1__contains__' is not defined",
     "output_type": "error",
     "traceback": [
      "\u001b[1;31m---------------------------------------------------------------------------\u001b[0m",
      "\u001b[1;31mNameError\u001b[0m                                 Traceback (most recent call last)",
      "\u001b[1;32m<ipython-input-76-405d8bfdfa21>\u001b[0m in \u001b[0;36m<module>\u001b[1;34m\u001b[0m\n\u001b[0;32m      1\u001b[0m \u001b[0ml1\u001b[0m\u001b[1;33m=\u001b[0m\u001b[1;33m[\u001b[0m\u001b[1;34m'A'\u001b[0m\u001b[1;33m,\u001b[0m \u001b[1;34m\"B\"\u001b[0m\u001b[1;33m,\u001b[0m \u001b[1;34m\"C\"\u001b[0m\u001b[1;33m]\u001b[0m\u001b[1;33m\u001b[0m\u001b[1;33m\u001b[0m\u001b[0m\n\u001b[1;32m----> 2\u001b[1;33m \u001b[0mprint\u001b[0m\u001b[1;33m(\u001b[0m\u001b[0ml1__contains__\u001b[0m\u001b[1;33m(\u001b[0m\u001b[1;34m\"A\"\u001b[0m\u001b[1;33m)\u001b[0m\u001b[1;33m)\u001b[0m\u001b[1;33m\u001b[0m\u001b[1;33m\u001b[0m\u001b[0m\n\u001b[0m\u001b[0;32m      3\u001b[0m \u001b[0mprint\u001b[0m\u001b[1;33m(\u001b[0m\u001b[0ml1\u001b[0m\u001b[1;33m.\u001b[0m\u001b[0m__contains__\u001b[0m\u001b[1;33m(\u001b[0m\u001b[1;33m[\u001b[0m\u001b[1;34m\"D\"\u001b[0m\u001b[1;33m,\u001b[0m \u001b[1;34m\"E\"\u001b[0m\u001b[1;33m]\u001b[0m\u001b[1;33m)\u001b[0m\u001b[1;33m)\u001b[0m\u001b[1;33m\u001b[0m\u001b[1;33m\u001b[0m\u001b[0m\n",
      "\u001b[1;31mNameError\u001b[0m: name 'l1__contains__' is not defined"
     ]
    }
   ],
   "source": [
    "l1=['A', \"B\", \"C\"]\n",
    "print(l1__contains__(\"A\"))\n",
    "print(l1.__contains__([\"D\", \"E\"]))"
   ]
  },
  {
   "cell_type": "code",
   "execution_count": null,
   "metadata": {},
   "outputs": [],
   "source": [
    "Equal"
   ]
  },
  {
   "cell_type": "code",
   "execution_count": 82,
   "metadata": {},
   "outputs": [
    {
     "name": "stdout",
     "output_type": "stream",
     "text": [
      "True\n",
      "False\n",
      "True\n"
     ]
    }
   ],
   "source": [
    "l1=[5,7,9,10]\n",
    "l2=[3,5,6]\n",
    "l3=[7,9,10]\n",
    "print(l1.__ge__(l2))\n",
    "print(l1.__ge__(l3))\n",
    "print(l3.__ge__(l2)) #greaterthanequal"
   ]
  },
  {
   "cell_type": "code",
   "execution_count": 83,
   "metadata": {},
   "outputs": [
    {
     "name": "stdout",
     "output_type": "stream",
     "text": [
      "4\n"
     ]
    }
   ],
   "source": [
    "print(len(l1))"
   ]
  },
  {
   "cell_type": "code",
   "execution_count": 84,
   "metadata": {},
   "outputs": [
    {
     "data": {
      "text/plain": [
       "['Pakistan',\n",
       " 'Pakistan',\n",
       " 'Pakistan',\n",
       " 'Pakistan',\n",
       " 'Pakistan',\n",
       " 'Pakistan',\n",
       " 'Pakistan',\n",
       " 'Pakistan',\n",
       " 'Pakistan',\n",
       " 'Pakistan']"
      ]
     },
     "execution_count": 84,
     "metadata": {},
     "output_type": "execute_result"
    }
   ],
   "source": [
    "[\"Pakistan\"]*10"
   ]
  },
  {
   "cell_type": "code",
   "execution_count": 1,
   "metadata": {},
   "outputs": [
    {
     "name": "stdout",
     "output_type": "stream",
     "text": [
      "Pakistan 1\n",
      "Pakistan 2\n",
      "Pakistan 3\n",
      "Pakistan 4\n",
      "Pakistan 5\n",
      "Pakistan 6\n",
      "Pakistan 7\n",
      "Pakistan 8\n",
      "Pakistan 9\n",
      "Pakistan 10\n"
     ]
    }
   ],
   "source": [
    "#LOOP\n",
    "#while\n",
    "counter=1\n",
    "while counter<=10:\n",
    "    print(\"Pakistan\",counter)\n",
    "    counter+=1\n"
   ]
  },
  {
   "cell_type": "code",
   "execution_count": null,
   "metadata": {},
   "outputs": [],
   "source": [
    "#LOOP\n",
    "#while\n",
    "counter=100\n",
    "while counter>=90:\n",
    "    print(\"Pakistan\",counter)\n",
    "    counter-=1"
   ]
  },
  {
   "cell_type": "code",
   "execution_count": null,
   "metadata": {},
   "outputs": [],
   "source": [
    "for counter in range(1,11):\n",
    "    print(\"Pakistan\", counter)"
   ]
  },
  {
   "cell_type": "code",
   "execution_count": null,
   "metadata": {},
   "outputs": [],
   "source": [
    "for i in range(1,11):\n",
    "    print(2,\"X\", i, \"=\", 2*i)"
   ]
  },
  {
   "cell_type": "code",
   "execution_count": 3,
   "metadata": {},
   "outputs": [
    {
     "data": {
      "text/plain": [
       "1"
      ]
     },
     "execution_count": 3,
     "metadata": {},
     "output_type": "execute_result"
    }
   ],
   "source": [
    "#TUPLE\n",
    "a=(1,2,3,4,5,6)\n",
    "a.count(1)"
   ]
  },
  {
   "cell_type": "code",
   "execution_count": 4,
   "metadata": {},
   "outputs": [
    {
     "data": {
      "text/plain": [
       "3"
      ]
     },
     "execution_count": 4,
     "metadata": {},
     "output_type": "execute_result"
    }
   ],
   "source": [
    "a.index(4)\n"
   ]
  },
  {
   "cell_type": "code",
   "execution_count": null,
   "metadata": {},
   "outputs": [],
   "source": []
  },
  {
   "cell_type": "code",
   "execution_count": null,
   "metadata": {},
   "outputs": [],
   "source": []
  },
  {
   "cell_type": "markdown",
   "metadata": {},
   "source": []
  },
  {
   "cell_type": "code",
   "execution_count": 1,
   "metadata": {},
   "outputs": [
    {
     "name": "stdout",
     "output_type": "stream",
     "text": [
      "enter name: Shafaq\n",
      "enter fathername: Naeem\n",
      "enter age:szdfdgfdgf\n",
      "If you want to continue press Y, otherwise Ny\n",
      "enter name: Shafaq\n",
      "enter fathername: Naeem\n",
      "enter age:xvxffc\n",
      "If you want to continue press Y, otherwise NN\n"
     ]
    }
   ],
   "source": [
    "i=\"y\"\n",
    "value=[]\n",
    "while(i==\"y\"):\n",
    "    value.append(input(\"enter name: \"))\n",
    "    value.append(input(\"enter fathername: \"))\n",
    "    value.append(input(\"enter age:\"))\n",
    "    i= input(\"If you want to continue press Y, otherwise N\")\n",
    "\n"
   ]
  },
  {
   "cell_type": "code",
   "execution_count": 2,
   "metadata": {},
   "outputs": [
    {
     "name": "stdout",
     "output_type": "stream",
     "text": [
      "1000\n",
      "999\n",
      "998\n",
      "997\n",
      "996\n",
      "995\n",
      "994\n",
      "993\n",
      "992\n",
      "991\n",
      "990\n"
     ]
    }
   ],
   "source": [
    "i=1000\n",
    "while(i>=990):\n",
    "    print(i)\n",
    "    i-=1"
   ]
  },
  {
   "cell_type": "code",
   "execution_count": 4,
   "metadata": {},
   "outputs": [
    {
     "name": "stdout",
     "output_type": "stream",
     "text": [
      "1000\n",
      "999\n",
      "998\n",
      "997\n",
      "996\n",
      "995\n",
      "994\n",
      "993\n",
      "992\n",
      "991\n"
     ]
    }
   ],
   "source": [
    "for i in range(1000,990, -1):\n",
    "    print(i)"
   ]
  },
  {
   "cell_type": "code",
   "execution_count": 14,
   "metadata": {},
   "outputs": [
    {
     "name": "stdout",
     "output_type": "stream",
     "text": [
      "Enter any number3\n",
      "1 * 1 = 1\n",
      "2 * 2 = 2\n",
      "3 * 3 = 3\n",
      "4 * 4 = 4\n",
      "5 * 5 = 5\n",
      "6 * 6 = 6\n",
      "7 * 7 = 7\n",
      "8 * 8 = 8\n",
      "9 * 9 = 9\n",
      "10 * 10 = 10\n"
     ]
    }
   ],
   "source": [
    "i= input(\"Enter any number\")\n",
    "a=1;\n",
    "l=1;\n",
    "while(a<=int(i)):\n",
    "    while(l<=10):\n",
    "        print(a,\"*\",l,\"=\",a*1)\n",
    "        l+=1\n",
    "        a+=1"
   ]
  },
  {
   "cell_type": "code",
   "execution_count": 25,
   "metadata": {},
   "outputs": [
    {
     "name": "stdout",
     "output_type": "stream",
     "text": [
      "Divided by 5 5\n",
      "Divided by 7 7\n",
      "Divided by 5 10\n",
      "Divided by 11 11\n",
      "Divided by 7 14\n",
      "Divided by 5 15\n",
      "Divided by 5 20\n",
      "Divided by 7 21\n",
      "Divided by 11 22\n",
      "Divided by 5 25\n",
      "Divided by 7 28\n",
      "Divided by 5 30\n",
      "Divided by 11 33\n",
      "Divided by 5 35\n",
      "Divided by 5 40\n",
      "Divided by 7 42\n",
      "Divided by 11 44\n",
      "Divided by 5 45\n",
      "Divided by 7 49\n",
      "Divided by 5 50\n",
      "Divided by 5 55\n",
      "Divided by 7 56\n",
      "Divided by 5 60\n",
      "Divided by 7 63\n",
      "Divided by 5 65\n",
      "Divided by 11 66\n",
      "Divided by 5 70\n",
      "Divided by 5 75\n",
      "Divided by 7 77\n",
      "Divided by 5 80\n",
      "Divided by 7 84\n",
      "Divided by 5 85\n",
      "Divided by 11 88\n",
      "Divided by 5 90\n",
      "Divided by 7 91\n",
      "Divided by 5 95\n",
      "Divided by 7 98\n",
      "Divided by 11 99\n",
      "Divided by 5 100\n",
      "Divided by 5 105\n",
      "Divided by 5 110\n",
      "Divided by 7 112\n",
      "Divided by 5 115\n",
      "Divided by 7 119\n",
      "Divided by 5 120\n",
      "Divided by 11 121\n",
      "Divided by 5 125\n",
      "Divided by 7 126\n",
      "Divided by 5 130\n",
      "Divided by 11 132\n",
      "Divided by 7 133\n",
      "Divided by 5 135\n",
      "Divided by 5 140\n",
      "Divided by 11 143\n",
      "Divided by 5 145\n",
      "Divided by 7 147\n",
      "Divided by 5 150\n",
      "Divided by 7 154\n",
      "Divided by 5 155\n",
      "Divided by 5 160\n",
      "Divided by 7 161\n",
      "Divided by 5 165\n",
      "Divided by 7 168\n",
      "Divided by 5 170\n",
      "Divided by 5 175\n",
      "Divided by 11 176\n",
      "Divided by 5 180\n",
      "Divided by 7 182\n",
      "Divided by 5 185\n",
      "Divided by 11 187\n",
      "Divided by 7 189\n",
      "Divided by 5 190\n",
      "Divided by 5 195\n",
      "Divided by 7 196\n",
      "Divided by 11 198\n",
      "Divided by 5 200\n",
      "Divided by 7 203\n",
      "Divided by 5 205\n",
      "Divided by 11 209\n",
      "Divided by 5 210\n",
      "Divided by 5 215\n",
      "Divided by 7 217\n",
      "Divided by 5 220\n",
      "Divided by 7 224\n",
      "Divided by 5 225\n",
      "Divided by 5 230\n",
      "Divided by 7 231\n",
      "Divided by 5 235\n",
      "Divided by 7 238\n",
      "Divided by 5 240\n",
      "Divided by 11 242\n",
      "Divided by 5 245\n",
      "Divided by 5 250\n",
      "Divided by 7 252\n",
      "Divided by 11 253\n",
      "Divided by 5 255\n",
      "Divided by 7 259\n",
      "Divided by 5 260\n",
      "Divided by 11 264\n",
      "Divided by 5 265\n",
      "Divided by 7 266\n",
      "Divided by 5 270\n",
      "Divided by 7 273\n",
      "Divided by 5 275\n",
      "Divided by 5 280\n",
      "Divided by 5 285\n",
      "Divided by 11 286\n",
      "Divided by 7 287\n",
      "Divided by 5 290\n",
      "Divided by 7 294\n",
      "Divided by 5 295\n",
      "Divided by 11 297\n",
      "Divided by 5 300\n",
      "Divided by 7 301\n",
      "Divided by 5 305\n",
      "Divided by 7 308\n",
      "Divided by 5 310\n",
      "Divided by 5 315\n",
      "Divided by 11 319\n",
      "Divided by 5 320\n",
      "Divided by 7 322\n",
      "Divided by 5 325\n",
      "Divided by 7 329\n",
      "Divided by 5 330\n",
      "Divided by 5 335\n",
      "Divided by 7 336\n",
      "Divided by 5 340\n",
      "Divided by 11 341\n",
      "Divided by 7 343\n",
      "Divided by 5 345\n",
      "Divided by 5 350\n",
      "Divided by 11 352\n",
      "Divided by 5 355\n",
      "Divided by 7 357\n",
      "Divided by 5 360\n",
      "Divided by 11 363\n",
      "Divided by 7 364\n",
      "Divided by 5 365\n",
      "Divided by 5 370\n",
      "Divided by 7 371\n",
      "Divided by 11 374\n",
      "Divided by 5 375\n",
      "Divided by 7 378\n",
      "Divided by 5 380\n",
      "Divided by 5 385\n",
      "Divided by 5 390\n",
      "Divided by 7 392\n",
      "Divided by 5 395\n",
      "Divided by 11 396\n",
      "Divided by 7 399\n",
      "Divided by 5 400\n",
      "Divided by 5 405\n",
      "Divided by 7 406\n",
      "Divided by 11 407\n",
      "Divided by 5 410\n",
      "Divided by 7 413\n",
      "Divided by 5 415\n",
      "Divided by 11 418\n",
      "Divided by 5 420\n",
      "Divided by 5 425\n",
      "Divided by 7 427\n",
      "Divided by 11 429\n",
      "Divided by 5 430\n",
      "Divided by 7 434\n",
      "Divided by 5 435\n",
      "Divided by 5 440\n",
      "Divided by 7 441\n",
      "Divided by 5 445\n",
      "Divided by 7 448\n",
      "Divided by 5 450\n",
      "Divided by 11 451\n",
      "Divided by 5 455\n",
      "Divided by 5 460\n",
      "Divided by 7 462\n",
      "Divided by 5 465\n",
      "Divided by 7 469\n",
      "Divided by 5 470\n",
      "Divided by 11 473\n",
      "Divided by 5 475\n",
      "Divided by 7 476\n",
      "Divided by 5 480\n",
      "Divided by 7 483\n",
      "Divided by 11 484\n",
      "Divided by 5 485\n",
      "Divided by 5 490\n",
      "Divided by 5 495\n",
      "Divided by 7 497\n",
      "Divided by 5 500\n",
      "Divided by 7 504\n",
      "Divided by 5 505\n",
      "Divided by 11 506\n",
      "Divided by 5 510\n",
      "Divided by 7 511\n",
      "Divided by 5 515\n",
      "Divided by 11 517\n",
      "Divided by 7 518\n",
      "Divided by 5 520\n",
      "Divided by 5 525\n",
      "Divided by 11 528\n",
      "Divided by 5 530\n",
      "Divided by 7 532\n",
      "Divided by 5 535\n",
      "Divided by 7 539\n",
      "Divided by 5 540\n",
      "Divided by 5 545\n",
      "Divided by 7 546\n",
      "Divided by 5 550\n",
      "Divided by 7 553\n",
      "Divided by 5 555\n",
      "Divided by 5 560\n",
      "Divided by 11 561\n",
      "Divided by 5 565\n",
      "Divided by 7 567\n",
      "Divided by 5 570\n",
      "Divided by 11 572\n",
      "Divided by 7 574\n",
      "Divided by 5 575\n",
      "Divided by 5 580\n",
      "Divided by 7 581\n",
      "Divided by 11 583\n",
      "Divided by 5 585\n",
      "Divided by 7 588\n",
      "Divided by 5 590\n",
      "Divided by 11 594\n",
      "Divided by 5 595\n",
      "Divided by 5 600\n",
      "Divided by 7 602\n",
      "Divided by 5 605\n",
      "Divided by 7 609\n",
      "Divided by 5 610\n",
      "Divided by 5 615\n",
      "Divided by 7 616\n",
      "Divided by 5 620\n",
      "Divided by 7 623\n",
      "Divided by 5 625\n",
      "Divided by 11 627\n",
      "Divided by 5 630\n",
      "Divided by 5 635\n",
      "Divided by 7 637\n",
      "Divided by 11 638\n",
      "Divided by 5 640\n",
      "Divided by 7 644\n",
      "Divided by 5 645\n",
      "Divided by 11 649\n",
      "Divided by 5 650\n",
      "Divided by 7 651\n",
      "Divided by 5 655\n",
      "Divided by 7 658\n",
      "Divided by 5 660\n",
      "Divided by 5 665\n",
      "Divided by 5 670\n",
      "Divided by 11 671\n",
      "Divided by 7 672\n",
      "Divided by 5 675\n",
      "Divided by 7 679\n",
      "Divided by 5 680\n",
      "Divided by 11 682\n",
      "Divided by 5 685\n",
      "Divided by 7 686\n",
      "Divided by 5 690\n",
      "Divided by 7 693\n",
      "Divided by 5 695\n",
      "Divided by 5 700\n",
      "Divided by 11 704\n",
      "Divided by 5 705\n",
      "Divided by 7 707\n",
      "Divided by 5 710\n",
      "Divided by 7 714\n",
      "Divided by 5 715\n",
      "Divided by 5 720\n",
      "Divided by 7 721\n",
      "Divided by 5 725\n",
      "Divided by 11 726\n",
      "Divided by 7 728\n",
      "Divided by 5 730\n",
      "Divided by 5 735\n",
      "Divided by 11 737\n",
      "Divided by 5 740\n",
      "Divided by 7 742\n",
      "Divided by 5 745\n",
      "Divided by 11 748\n",
      "Divided by 7 749\n",
      "Divided by 5 750\n",
      "Divided by 5 755\n",
      "Divided by 7 756\n",
      "Divided by 11 759\n",
      "Divided by 5 760\n",
      "Divided by 7 763\n",
      "Divided by 5 765\n",
      "Divided by 5 770\n",
      "Divided by 5 775\n",
      "Divided by 7 777\n",
      "Divided by 5 780\n",
      "Divided by 11 781\n",
      "Divided by 7 784\n",
      "Divided by 5 785\n",
      "Divided by 5 790\n",
      "Divided by 7 791\n",
      "Divided by 11 792\n",
      "Divided by 5 795\n",
      "Divided by 7 798\n",
      "Divided by 5 800\n",
      "Divided by 11 803\n",
      "Divided by 5 805\n",
      "Divided by 5 810\n",
      "Divided by 7 812\n",
      "Divided by 11 814\n",
      "Divided by 5 815\n",
      "Divided by 7 819\n",
      "Divided by 5 820\n",
      "Divided by 5 825\n",
      "Divided by 7 826\n",
      "Divided by 5 830\n",
      "Divided by 7 833\n",
      "Divided by 5 835\n",
      "Divided by 11 836\n",
      "Divided by 5 840\n",
      "Divided by 5 845\n",
      "Divided by 7 847\n",
      "Divided by 5 850\n",
      "Divided by 7 854\n",
      "Divided by 5 855\n",
      "Divided by 11 858\n",
      "Divided by 5 860\n",
      "Divided by 7 861\n",
      "Divided by 5 865\n",
      "Divided by 7 868\n",
      "Divided by 11 869\n",
      "Divided by 5 870\n",
      "Divided by 5 875\n",
      "Divided by 5 880\n",
      "Divided by 7 882\n",
      "Divided by 5 885\n",
      "Divided by 7 889\n",
      "Divided by 5 890\n",
      "Divided by 11 891\n",
      "Divided by 5 895\n",
      "Divided by 7 896\n",
      "Divided by 5 900\n",
      "Divided by 11 902\n",
      "Divided by 7 903\n",
      "Divided by 5 905\n",
      "Divided by 5 910\n",
      "Divided by 11 913\n",
      "Divided by 5 915\n",
      "Divided by 7 917\n",
      "Divided by 5 920\n",
      "Divided by 7 924\n",
      "Divided by 5 925\n",
      "Divided by 5 930\n",
      "Divided by 7 931\n",
      "Divided by 5 935\n",
      "Divided by 7 938\n",
      "Divided by 5 940\n",
      "Divided by 5 945\n",
      "Divided by 11 946\n",
      "Divided by 5 950\n",
      "Divided by 7 952\n",
      "Divided by 5 955\n",
      "Divided by 11 957\n",
      "Divided by 7 959\n",
      "Divided by 5 960\n",
      "Divided by 5 965\n",
      "Divided by 7 966\n",
      "Divided by 11 968\n",
      "Divided by 5 970\n",
      "Divided by 7 973\n",
      "Divided by 5 975\n",
      "Divided by 11 979\n",
      "Divided by 5 980\n",
      "Divided by 5 985\n",
      "Divided by 7 987\n",
      "Divided by 5 990\n",
      "Divided by 7 994\n",
      "Divided by 5 995\n",
      "Divided by 5 1000\n"
     ]
    }
   ],
   "source": [
    "num =1\n",
    "while(num<=1000):\n",
    "    if(num%5==0):\n",
    "        print(\"Divided by 5\",num)\n",
    "    elif(num%7==0):\n",
    "          print(\"Divided by 7\",num)\n",
    "    elif( num%11==0):\n",
    "                print(\"Divided by 11\",num)\n",
    "    num+=1\n"
   ]
  },
  {
   "cell_type": "code",
   "execution_count": null,
   "metadata": {},
   "outputs": [],
   "source": [
    "if(person==\"Boy\"):\n",
    "    if(rich==True):\n",
    "    elif(rich==False):\n",
    "elif(person==\"girl\"):\n",
    "elif(person==\"friend\"):"
   ]
  }
 ],
 "metadata": {
  "kernelspec": {
   "display_name": "Python 3",
   "language": "python",
   "name": "python3"
  },
  "language_info": {
   "codemirror_mode": {
    "name": "ipython",
    "version": 3
   },
   "file_extension": ".py",
   "mimetype": "text/x-python",
   "name": "python",
   "nbconvert_exporter": "python",
   "pygments_lexer": "ipython3",
   "version": "3.7.4"
  }
 },
 "nbformat": 4,
 "nbformat_minor": 2
}
